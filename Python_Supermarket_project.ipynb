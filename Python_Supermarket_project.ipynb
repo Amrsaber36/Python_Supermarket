{
  "nbformat": 4,
  "nbformat_minor": 0,
  "metadata": {
    "colab": {
      "provenance": []
    },
    "kernelspec": {
      "name": "python3",
      "display_name": "Python 3"
    },
    "language_info": {
      "name": "python"
    }
  },
  "cells": [
    {
      "cell_type": "code",
      "execution_count": 1,
      "metadata": {
        "colab": {
          "base_uri": "https://localhost:8080/",
          "height": 348
        },
        "id": "65LjwiD7MJyx",
        "outputId": "f8a2514e-d502-4dae-be39-5d44524a1c39"
      },
      "outputs": [
        {
          "output_type": "execute_result",
          "data": {
            "text/plain": [
              "   Unnamed: 0   Invoice ID     Branch   City Customer type  Gender  \\\n",
              "0           0  750-67-8428  Helioples  Cairo        Member  Female   \n",
              "1           1  226-31-3081    mamoura   Alex        Normal  Female   \n",
              "2           2  631-41-3108  Helioples  Cairo        Normal    Male   \n",
              "3           3  123-19-1176  Helioples  Cairo        Member    Male   \n",
              "4           4  373-73-7910  Helioples  Cairo        Normal    Male   \n",
              "\n",
              "             Product line  Unit price  Quantity   Tax 5%     Total       Date  \\\n",
              "0       Health and beauty       74.69         7  26.1415  548.9715   1/5/2019   \n",
              "1  Electronic accessories       15.28         5   3.8200   80.2200   3/8/2019   \n",
              "2      Home and lifestyle       46.33         7  16.2155  340.5255   3/3/2019   \n",
              "3       Health and beauty       58.22         8  23.2880  489.0480  1/27/2019   \n",
              "4       Sports and travel       86.31         7  30.2085  634.3785   2/8/2019   \n",
              "\n",
              "    Time      Payment    cogs  gross margin percentage  gross income  Rating  \n",
              "0  13:08      Ewallet  522.83                 4.761905       26.1415     9.1  \n",
              "1  10:29         Cash   76.40                 4.761905        3.8200     9.6  \n",
              "2  13:23  Credit card  324.31                 4.761905       16.2155     7.4  \n",
              "3  20:33      Ewallet  465.76                 4.761905       23.2880     8.4  \n",
              "4  10:37      Ewallet  604.17                 4.761905       30.2085     5.3  "
            ],
            "text/html": [
              "\n",
              "  <div id=\"df-b74af7b4-f87f-40f5-9e0c-64ac17c28edf\" class=\"colab-df-container\">\n",
              "    <div>\n",
              "<style scoped>\n",
              "    .dataframe tbody tr th:only-of-type {\n",
              "        vertical-align: middle;\n",
              "    }\n",
              "\n",
              "    .dataframe tbody tr th {\n",
              "        vertical-align: top;\n",
              "    }\n",
              "\n",
              "    .dataframe thead th {\n",
              "        text-align: right;\n",
              "    }\n",
              "</style>\n",
              "<table border=\"1\" class=\"dataframe\">\n",
              "  <thead>\n",
              "    <tr style=\"text-align: right;\">\n",
              "      <th></th>\n",
              "      <th>Unnamed: 0</th>\n",
              "      <th>Invoice ID</th>\n",
              "      <th>Branch</th>\n",
              "      <th>City</th>\n",
              "      <th>Customer type</th>\n",
              "      <th>Gender</th>\n",
              "      <th>Product line</th>\n",
              "      <th>Unit price</th>\n",
              "      <th>Quantity</th>\n",
              "      <th>Tax 5%</th>\n",
              "      <th>Total</th>\n",
              "      <th>Date</th>\n",
              "      <th>Time</th>\n",
              "      <th>Payment</th>\n",
              "      <th>cogs</th>\n",
              "      <th>gross margin percentage</th>\n",
              "      <th>gross income</th>\n",
              "      <th>Rating</th>\n",
              "    </tr>\n",
              "  </thead>\n",
              "  <tbody>\n",
              "    <tr>\n",
              "      <th>0</th>\n",
              "      <td>0</td>\n",
              "      <td>750-67-8428</td>\n",
              "      <td>Helioples</td>\n",
              "      <td>Cairo</td>\n",
              "      <td>Member</td>\n",
              "      <td>Female</td>\n",
              "      <td>Health and beauty</td>\n",
              "      <td>74.69</td>\n",
              "      <td>7</td>\n",
              "      <td>26.1415</td>\n",
              "      <td>548.9715</td>\n",
              "      <td>1/5/2019</td>\n",
              "      <td>13:08</td>\n",
              "      <td>Ewallet</td>\n",
              "      <td>522.83</td>\n",
              "      <td>4.761905</td>\n",
              "      <td>26.1415</td>\n",
              "      <td>9.1</td>\n",
              "    </tr>\n",
              "    <tr>\n",
              "      <th>1</th>\n",
              "      <td>1</td>\n",
              "      <td>226-31-3081</td>\n",
              "      <td>mamoura</td>\n",
              "      <td>Alex</td>\n",
              "      <td>Normal</td>\n",
              "      <td>Female</td>\n",
              "      <td>Electronic accessories</td>\n",
              "      <td>15.28</td>\n",
              "      <td>5</td>\n",
              "      <td>3.8200</td>\n",
              "      <td>80.2200</td>\n",
              "      <td>3/8/2019</td>\n",
              "      <td>10:29</td>\n",
              "      <td>Cash</td>\n",
              "      <td>76.40</td>\n",
              "      <td>4.761905</td>\n",
              "      <td>3.8200</td>\n",
              "      <td>9.6</td>\n",
              "    </tr>\n",
              "    <tr>\n",
              "      <th>2</th>\n",
              "      <td>2</td>\n",
              "      <td>631-41-3108</td>\n",
              "      <td>Helioples</td>\n",
              "      <td>Cairo</td>\n",
              "      <td>Normal</td>\n",
              "      <td>Male</td>\n",
              "      <td>Home and lifestyle</td>\n",
              "      <td>46.33</td>\n",
              "      <td>7</td>\n",
              "      <td>16.2155</td>\n",
              "      <td>340.5255</td>\n",
              "      <td>3/3/2019</td>\n",
              "      <td>13:23</td>\n",
              "      <td>Credit card</td>\n",
              "      <td>324.31</td>\n",
              "      <td>4.761905</td>\n",
              "      <td>16.2155</td>\n",
              "      <td>7.4</td>\n",
              "    </tr>\n",
              "    <tr>\n",
              "      <th>3</th>\n",
              "      <td>3</td>\n",
              "      <td>123-19-1176</td>\n",
              "      <td>Helioples</td>\n",
              "      <td>Cairo</td>\n",
              "      <td>Member</td>\n",
              "      <td>Male</td>\n",
              "      <td>Health and beauty</td>\n",
              "      <td>58.22</td>\n",
              "      <td>8</td>\n",
              "      <td>23.2880</td>\n",
              "      <td>489.0480</td>\n",
              "      <td>1/27/2019</td>\n",
              "      <td>20:33</td>\n",
              "      <td>Ewallet</td>\n",
              "      <td>465.76</td>\n",
              "      <td>4.761905</td>\n",
              "      <td>23.2880</td>\n",
              "      <td>8.4</td>\n",
              "    </tr>\n",
              "    <tr>\n",
              "      <th>4</th>\n",
              "      <td>4</td>\n",
              "      <td>373-73-7910</td>\n",
              "      <td>Helioples</td>\n",
              "      <td>Cairo</td>\n",
              "      <td>Normal</td>\n",
              "      <td>Male</td>\n",
              "      <td>Sports and travel</td>\n",
              "      <td>86.31</td>\n",
              "      <td>7</td>\n",
              "      <td>30.2085</td>\n",
              "      <td>634.3785</td>\n",
              "      <td>2/8/2019</td>\n",
              "      <td>10:37</td>\n",
              "      <td>Ewallet</td>\n",
              "      <td>604.17</td>\n",
              "      <td>4.761905</td>\n",
              "      <td>30.2085</td>\n",
              "      <td>5.3</td>\n",
              "    </tr>\n",
              "  </tbody>\n",
              "</table>\n",
              "</div>\n",
              "    <div class=\"colab-df-buttons\">\n",
              "\n",
              "  <div class=\"colab-df-container\">\n",
              "    <button class=\"colab-df-convert\" onclick=\"convertToInteractive('df-b74af7b4-f87f-40f5-9e0c-64ac17c28edf')\"\n",
              "            title=\"Convert this dataframe to an interactive table.\"\n",
              "            style=\"display:none;\">\n",
              "\n",
              "  <svg xmlns=\"http://www.w3.org/2000/svg\" height=\"24px\" viewBox=\"0 -960 960 960\">\n",
              "    <path d=\"M120-120v-720h720v720H120Zm60-500h600v-160H180v160Zm220 220h160v-160H400v160Zm0 220h160v-160H400v160ZM180-400h160v-160H180v160Zm440 0h160v-160H620v160ZM180-180h160v-160H180v160Zm440 0h160v-160H620v160Z\"/>\n",
              "  </svg>\n",
              "    </button>\n",
              "\n",
              "  <style>\n",
              "    .colab-df-container {\n",
              "      display:flex;\n",
              "      gap: 12px;\n",
              "    }\n",
              "\n",
              "    .colab-df-convert {\n",
              "      background-color: #E8F0FE;\n",
              "      border: none;\n",
              "      border-radius: 50%;\n",
              "      cursor: pointer;\n",
              "      display: none;\n",
              "      fill: #1967D2;\n",
              "      height: 32px;\n",
              "      padding: 0 0 0 0;\n",
              "      width: 32px;\n",
              "    }\n",
              "\n",
              "    .colab-df-convert:hover {\n",
              "      background-color: #E2EBFA;\n",
              "      box-shadow: 0px 1px 2px rgba(60, 64, 67, 0.3), 0px 1px 3px 1px rgba(60, 64, 67, 0.15);\n",
              "      fill: #174EA6;\n",
              "    }\n",
              "\n",
              "    .colab-df-buttons div {\n",
              "      margin-bottom: 4px;\n",
              "    }\n",
              "\n",
              "    [theme=dark] .colab-df-convert {\n",
              "      background-color: #3B4455;\n",
              "      fill: #D2E3FC;\n",
              "    }\n",
              "\n",
              "    [theme=dark] .colab-df-convert:hover {\n",
              "      background-color: #434B5C;\n",
              "      box-shadow: 0px 1px 3px 1px rgba(0, 0, 0, 0.15);\n",
              "      filter: drop-shadow(0px 1px 2px rgba(0, 0, 0, 0.3));\n",
              "      fill: #FFFFFF;\n",
              "    }\n",
              "  </style>\n",
              "\n",
              "    <script>\n",
              "      const buttonEl =\n",
              "        document.querySelector('#df-b74af7b4-f87f-40f5-9e0c-64ac17c28edf button.colab-df-convert');\n",
              "      buttonEl.style.display =\n",
              "        google.colab.kernel.accessAllowed ? 'block' : 'none';\n",
              "\n",
              "      async function convertToInteractive(key) {\n",
              "        const element = document.querySelector('#df-b74af7b4-f87f-40f5-9e0c-64ac17c28edf');\n",
              "        const dataTable =\n",
              "          await google.colab.kernel.invokeFunction('convertToInteractive',\n",
              "                                                    [key], {});\n",
              "        if (!dataTable) return;\n",
              "\n",
              "        const docLinkHtml = 'Like what you see? Visit the ' +\n",
              "          '<a target=\"_blank\" href=https://colab.research.google.com/notebooks/data_table.ipynb>data table notebook</a>'\n",
              "          + ' to learn more about interactive tables.';\n",
              "        element.innerHTML = '';\n",
              "        dataTable['output_type'] = 'display_data';\n",
              "        await google.colab.output.renderOutput(dataTable, element);\n",
              "        const docLink = document.createElement('div');\n",
              "        docLink.innerHTML = docLinkHtml;\n",
              "        element.appendChild(docLink);\n",
              "      }\n",
              "    </script>\n",
              "  </div>\n",
              "\n",
              "\n",
              "<div id=\"df-5f5d49c3-23a7-426f-a19c-5c8a5c53ddec\">\n",
              "  <button class=\"colab-df-quickchart\" onclick=\"quickchart('df-5f5d49c3-23a7-426f-a19c-5c8a5c53ddec')\"\n",
              "            title=\"Suggest charts\"\n",
              "            style=\"display:none;\">\n",
              "\n",
              "<svg xmlns=\"http://www.w3.org/2000/svg\" height=\"24px\"viewBox=\"0 0 24 24\"\n",
              "     width=\"24px\">\n",
              "    <g>\n",
              "        <path d=\"M19 3H5c-1.1 0-2 .9-2 2v14c0 1.1.9 2 2 2h14c1.1 0 2-.9 2-2V5c0-1.1-.9-2-2-2zM9 17H7v-7h2v7zm4 0h-2V7h2v10zm4 0h-2v-4h2v4z\"/>\n",
              "    </g>\n",
              "</svg>\n",
              "  </button>\n",
              "\n",
              "<style>\n",
              "  .colab-df-quickchart {\n",
              "      --bg-color: #E8F0FE;\n",
              "      --fill-color: #1967D2;\n",
              "      --hover-bg-color: #E2EBFA;\n",
              "      --hover-fill-color: #174EA6;\n",
              "      --disabled-fill-color: #AAA;\n",
              "      --disabled-bg-color: #DDD;\n",
              "  }\n",
              "\n",
              "  [theme=dark] .colab-df-quickchart {\n",
              "      --bg-color: #3B4455;\n",
              "      --fill-color: #D2E3FC;\n",
              "      --hover-bg-color: #434B5C;\n",
              "      --hover-fill-color: #FFFFFF;\n",
              "      --disabled-bg-color: #3B4455;\n",
              "      --disabled-fill-color: #666;\n",
              "  }\n",
              "\n",
              "  .colab-df-quickchart {\n",
              "    background-color: var(--bg-color);\n",
              "    border: none;\n",
              "    border-radius: 50%;\n",
              "    cursor: pointer;\n",
              "    display: none;\n",
              "    fill: var(--fill-color);\n",
              "    height: 32px;\n",
              "    padding: 0;\n",
              "    width: 32px;\n",
              "  }\n",
              "\n",
              "  .colab-df-quickchart:hover {\n",
              "    background-color: var(--hover-bg-color);\n",
              "    box-shadow: 0 1px 2px rgba(60, 64, 67, 0.3), 0 1px 3px 1px rgba(60, 64, 67, 0.15);\n",
              "    fill: var(--button-hover-fill-color);\n",
              "  }\n",
              "\n",
              "  .colab-df-quickchart-complete:disabled,\n",
              "  .colab-df-quickchart-complete:disabled:hover {\n",
              "    background-color: var(--disabled-bg-color);\n",
              "    fill: var(--disabled-fill-color);\n",
              "    box-shadow: none;\n",
              "  }\n",
              "\n",
              "  .colab-df-spinner {\n",
              "    border: 2px solid var(--fill-color);\n",
              "    border-color: transparent;\n",
              "    border-bottom-color: var(--fill-color);\n",
              "    animation:\n",
              "      spin 1s steps(1) infinite;\n",
              "  }\n",
              "\n",
              "  @keyframes spin {\n",
              "    0% {\n",
              "      border-color: transparent;\n",
              "      border-bottom-color: var(--fill-color);\n",
              "      border-left-color: var(--fill-color);\n",
              "    }\n",
              "    20% {\n",
              "      border-color: transparent;\n",
              "      border-left-color: var(--fill-color);\n",
              "      border-top-color: var(--fill-color);\n",
              "    }\n",
              "    30% {\n",
              "      border-color: transparent;\n",
              "      border-left-color: var(--fill-color);\n",
              "      border-top-color: var(--fill-color);\n",
              "      border-right-color: var(--fill-color);\n",
              "    }\n",
              "    40% {\n",
              "      border-color: transparent;\n",
              "      border-right-color: var(--fill-color);\n",
              "      border-top-color: var(--fill-color);\n",
              "    }\n",
              "    60% {\n",
              "      border-color: transparent;\n",
              "      border-right-color: var(--fill-color);\n",
              "    }\n",
              "    80% {\n",
              "      border-color: transparent;\n",
              "      border-right-color: var(--fill-color);\n",
              "      border-bottom-color: var(--fill-color);\n",
              "    }\n",
              "    90% {\n",
              "      border-color: transparent;\n",
              "      border-bottom-color: var(--fill-color);\n",
              "    }\n",
              "  }\n",
              "</style>\n",
              "\n",
              "  <script>\n",
              "    async function quickchart(key) {\n",
              "      const quickchartButtonEl =\n",
              "        document.querySelector('#' + key + ' button');\n",
              "      quickchartButtonEl.disabled = true;  // To prevent multiple clicks.\n",
              "      quickchartButtonEl.classList.add('colab-df-spinner');\n",
              "      try {\n",
              "        const charts = await google.colab.kernel.invokeFunction(\n",
              "            'suggestCharts', [key], {});\n",
              "      } catch (error) {\n",
              "        console.error('Error during call to suggestCharts:', error);\n",
              "      }\n",
              "      quickchartButtonEl.classList.remove('colab-df-spinner');\n",
              "      quickchartButtonEl.classList.add('colab-df-quickchart-complete');\n",
              "    }\n",
              "    (() => {\n",
              "      let quickchartButtonEl =\n",
              "        document.querySelector('#df-5f5d49c3-23a7-426f-a19c-5c8a5c53ddec button');\n",
              "      quickchartButtonEl.style.display =\n",
              "        google.colab.kernel.accessAllowed ? 'block' : 'none';\n",
              "    })();\n",
              "  </script>\n",
              "</div>\n",
              "\n",
              "    </div>\n",
              "  </div>\n"
            ],
            "application/vnd.google.colaboratory.intrinsic+json": {
              "type": "dataframe",
              "variable_name": "df",
              "summary": "{\n  \"name\": \"df\",\n  \"rows\": 1000,\n  \"fields\": [\n    {\n      \"column\": \"Unnamed: 0\",\n      \"properties\": {\n        \"dtype\": \"number\",\n        \"std\": 288,\n        \"min\": 0,\n        \"max\": 999,\n        \"num_unique_values\": 1000,\n        \"samples\": [\n          521,\n          737,\n          740\n        ],\n        \"semantic_type\": \"\",\n        \"description\": \"\"\n      }\n    },\n    {\n      \"column\": \"Invoice ID\",\n      \"properties\": {\n        \"dtype\": \"string\",\n        \"num_unique_values\": 1000,\n        \"samples\": [\n          \"451-28-5717\",\n          \"137-63-5492\",\n          \"733-29-1227\"\n        ],\n        \"semantic_type\": \"\",\n        \"description\": \"\"\n      }\n    },\n    {\n      \"column\": \"Branch\",\n      \"properties\": {\n        \"dtype\": \"category\",\n        \"num_unique_values\": 3,\n        \"samples\": [\n          \"Helioples\",\n          \"mamoura\",\n          \"zouni beach\"\n        ],\n        \"semantic_type\": \"\",\n        \"description\": \"\"\n      }\n    },\n    {\n      \"column\": \"City\",\n      \"properties\": {\n        \"dtype\": \"category\",\n        \"num_unique_values\": 3,\n        \"samples\": [\n          \"Cairo\",\n          \"Alex\",\n          \"Gouna\"\n        ],\n        \"semantic_type\": \"\",\n        \"description\": \"\"\n      }\n    },\n    {\n      \"column\": \"Customer type\",\n      \"properties\": {\n        \"dtype\": \"category\",\n        \"num_unique_values\": 2,\n        \"samples\": [\n          \"Normal\",\n          \"Member\"\n        ],\n        \"semantic_type\": \"\",\n        \"description\": \"\"\n      }\n    },\n    {\n      \"column\": \"Gender\",\n      \"properties\": {\n        \"dtype\": \"category\",\n        \"num_unique_values\": 2,\n        \"samples\": [\n          \"Male\",\n          \"Female\"\n        ],\n        \"semantic_type\": \"\",\n        \"description\": \"\"\n      }\n    },\n    {\n      \"column\": \"Product line\",\n      \"properties\": {\n        \"dtype\": \"category\",\n        \"num_unique_values\": 6,\n        \"samples\": [\n          \"Health and beauty\",\n          \"Electronic accessories\"\n        ],\n        \"semantic_type\": \"\",\n        \"description\": \"\"\n      }\n    },\n    {\n      \"column\": \"Unit price\",\n      \"properties\": {\n        \"dtype\": \"number\",\n        \"std\": 26.49462834791978,\n        \"min\": 10.08,\n        \"max\": 99.96,\n        \"num_unique_values\": 943,\n        \"samples\": [\n          12.45,\n          70.74\n        ],\n        \"semantic_type\": \"\",\n        \"description\": \"\"\n      }\n    },\n    {\n      \"column\": \"Quantity\",\n      \"properties\": {\n        \"dtype\": \"number\",\n        \"std\": 2,\n        \"min\": 1,\n        \"max\": 10,\n        \"num_unique_values\": 10,\n        \"samples\": [\n          1,\n          5\n        ],\n        \"semantic_type\": \"\",\n        \"description\": \"\"\n      }\n    },\n    {\n      \"column\": \"Tax 5%\",\n      \"properties\": {\n        \"dtype\": \"number\",\n        \"std\": 11.708825480998659,\n        \"min\": 0.5085,\n        \"max\": 49.65,\n        \"num_unique_values\": 990,\n        \"samples\": [\n          0.914,\n          2.348\n        ],\n        \"semantic_type\": \"\",\n        \"description\": \"\"\n      }\n    },\n    {\n      \"column\": \"Total\",\n      \"properties\": {\n        \"dtype\": \"number\",\n        \"std\": 245.88533510097187,\n        \"min\": 10.6785,\n        \"max\": 1042.65,\n        \"num_unique_values\": 990,\n        \"samples\": [\n          19.194,\n          49.308\n        ],\n        \"semantic_type\": \"\",\n        \"description\": \"\"\n      }\n    },\n    {\n      \"column\": \"Date\",\n      \"properties\": {\n        \"dtype\": \"object\",\n        \"num_unique_values\": 89,\n        \"samples\": [\n          \"2/14/2019\",\n          \"1/26/2019\"\n        ],\n        \"semantic_type\": \"\",\n        \"description\": \"\"\n      }\n    },\n    {\n      \"column\": \"Time\",\n      \"properties\": {\n        \"dtype\": \"object\",\n        \"num_unique_values\": 506,\n        \"samples\": [\n          \"10:13\",\n          \"11:21\"\n        ],\n        \"semantic_type\": \"\",\n        \"description\": \"\"\n      }\n    },\n    {\n      \"column\": \"Payment\",\n      \"properties\": {\n        \"dtype\": \"category\",\n        \"num_unique_values\": 3,\n        \"samples\": [\n          \"Ewallet\",\n          \"Cash\"\n        ],\n        \"semantic_type\": \"\",\n        \"description\": \"\"\n      }\n    },\n    {\n      \"column\": \"cogs\",\n      \"properties\": {\n        \"dtype\": \"number\",\n        \"std\": 234.1765096199732,\n        \"min\": 10.17,\n        \"max\": 993.0,\n        \"num_unique_values\": 990,\n        \"samples\": [\n          18.28,\n          46.96\n        ],\n        \"semantic_type\": \"\",\n        \"description\": \"\"\n      }\n    },\n    {\n      \"column\": \"gross margin percentage\",\n      \"properties\": {\n        \"dtype\": \"number\",\n        \"std\": 0.0,\n        \"min\": 4.761904762,\n        \"max\": 4.761904762,\n        \"num_unique_values\": 1,\n        \"samples\": [\n          4.761904762\n        ],\n        \"semantic_type\": \"\",\n        \"description\": \"\"\n      }\n    },\n    {\n      \"column\": \"gross income\",\n      \"properties\": {\n        \"dtype\": \"number\",\n        \"std\": 11.708825480998659,\n        \"min\": 0.5085,\n        \"max\": 49.65,\n        \"num_unique_values\": 990,\n        \"samples\": [\n          0.914\n        ],\n        \"semantic_type\": \"\",\n        \"description\": \"\"\n      }\n    },\n    {\n      \"column\": \"Rating\",\n      \"properties\": {\n        \"dtype\": \"number\",\n        \"std\": 1.7185802943791215,\n        \"min\": 4.0,\n        \"max\": 10.0,\n        \"num_unique_values\": 61,\n        \"samples\": [\n          9.1\n        ],\n        \"semantic_type\": \"\",\n        \"description\": \"\"\n      }\n    }\n  ]\n}"
            }
          },
          "metadata": {},
          "execution_count": 1
        }
      ],
      "source": [
        "import pandas as pd\n",
        "df=pd.read_csv('/content/Supermarket.csv')\n",
        "df.head()"
      ]
    },
    {
      "cell_type": "markdown",
      "source": [
        "# **A-Data preprocessing**"
      ],
      "metadata": {
        "id": "Wn7eR6xYM1H0"
      }
    },
    {
      "cell_type": "code",
      "source": [
        "df.info()"
      ],
      "metadata": {
        "colab": {
          "base_uri": "https://localhost:8080/"
        },
        "id": "MBsef2nsM98P",
        "outputId": "b1bd979f-c5ac-4de6-c96a-2403ea0c5ead"
      },
      "execution_count": 2,
      "outputs": [
        {
          "output_type": "stream",
          "name": "stdout",
          "text": [
            "<class 'pandas.core.frame.DataFrame'>\n",
            "RangeIndex: 1000 entries, 0 to 999\n",
            "Data columns (total 18 columns):\n",
            " #   Column                   Non-Null Count  Dtype  \n",
            "---  ------                   --------------  -----  \n",
            " 0   Unnamed: 0               1000 non-null   int64  \n",
            " 1   Invoice ID               1000 non-null   object \n",
            " 2   Branch                   1000 non-null   object \n",
            " 3   City                     1000 non-null   object \n",
            " 4   Customer type            1000 non-null   object \n",
            " 5   Gender                   1000 non-null   object \n",
            " 6   Product line             1000 non-null   object \n",
            " 7   Unit price               1000 non-null   float64\n",
            " 8   Quantity                 1000 non-null   int64  \n",
            " 9   Tax 5%                   1000 non-null   float64\n",
            " 10  Total                    1000 non-null   float64\n",
            " 11  Date                     1000 non-null   object \n",
            " 12  Time                     1000 non-null   object \n",
            " 13  Payment                  1000 non-null   object \n",
            " 14  cogs                     1000 non-null   float64\n",
            " 15  gross margin percentage  1000 non-null   float64\n",
            " 16  gross income             1000 non-null   float64\n",
            " 17  Rating                   1000 non-null   float64\n",
            "dtypes: float64(7), int64(2), object(9)\n",
            "memory usage: 140.8+ KB\n"
          ]
        }
      ]
    },
    {
      "cell_type": "code",
      "source": [
        "df.isnull().sum()"
      ],
      "metadata": {
        "colab": {
          "base_uri": "https://localhost:8080/"
        },
        "id": "0G0aN4eFNVRT",
        "outputId": "98ab636d-1077-48b5-dc34-9497816da1fc"
      },
      "execution_count": 3,
      "outputs": [
        {
          "output_type": "execute_result",
          "data": {
            "text/plain": [
              "Unnamed: 0                 0\n",
              "Invoice ID                 0\n",
              "Branch                     0\n",
              "City                       0\n",
              "Customer type              0\n",
              "Gender                     0\n",
              "Product line               0\n",
              "Unit price                 0\n",
              "Quantity                   0\n",
              "Tax 5%                     0\n",
              "Total                      0\n",
              "Date                       0\n",
              "Time                       0\n",
              "Payment                    0\n",
              "cogs                       0\n",
              "gross margin percentage    0\n",
              "gross income               0\n",
              "Rating                     0\n",
              "dtype: int64"
            ]
          },
          "metadata": {},
          "execution_count": 3
        }
      ]
    },
    {
      "cell_type": "code",
      "source": [
        "df.duplicated().sum()"
      ],
      "metadata": {
        "colab": {
          "base_uri": "https://localhost:8080/"
        },
        "id": "hWj4sD1RNdGF",
        "outputId": "153e372c-d506-4ed3-b5df-1e35e858e6ff"
      },
      "execution_count": 4,
      "outputs": [
        {
          "output_type": "execute_result",
          "data": {
            "text/plain": [
              "0"
            ]
          },
          "metadata": {},
          "execution_count": 4
        }
      ]
    },
    {
      "cell_type": "code",
      "source": [
        "print(df.columns)"
      ],
      "metadata": {
        "colab": {
          "base_uri": "https://localhost:8080/"
        },
        "id": "wBEb37d59_Sy",
        "outputId": "7abdd64e-0761-4402-8ade-dc3eb8a77cf8"
      },
      "execution_count": 5,
      "outputs": [
        {
          "output_type": "stream",
          "name": "stdout",
          "text": [
            "Index(['Unnamed: 0', 'Invoice ID', 'Branch', 'City', 'Customer type', 'Gender',\n",
            "       'Product line', 'Unit price', 'Quantity', 'Tax 5%', 'Total', 'Date',\n",
            "       'Time', 'Payment', 'cogs', 'gross margin percentage', 'gross income',\n",
            "       'Rating'],\n",
            "      dtype='object')\n"
          ]
        }
      ]
    },
    {
      "cell_type": "code",
      "source": [
        "df=df.drop('Unnamed: 0',axis=1)"
      ],
      "metadata": {
        "id": "ukYTT7sG9LSL"
      },
      "execution_count": 6,
      "outputs": []
    },
    {
      "cell_type": "code",
      "source": [
        "print(df.columns)"
      ],
      "metadata": {
        "colab": {
          "base_uri": "https://localhost:8080/"
        },
        "id": "KAmvhLRu-Hyr",
        "outputId": "adc554ca-7168-49c4-be74-c5ee274effe9"
      },
      "execution_count": 7,
      "outputs": [
        {
          "output_type": "stream",
          "name": "stdout",
          "text": [
            "Index(['Invoice ID', 'Branch', 'City', 'Customer type', 'Gender',\n",
            "       'Product line', 'Unit price', 'Quantity', 'Tax 5%', 'Total', 'Date',\n",
            "       'Time', 'Payment', 'cogs', 'gross margin percentage', 'gross income',\n",
            "       'Rating'],\n",
            "      dtype='object')\n"
          ]
        }
      ]
    },
    {
      "cell_type": "code",
      "source": [
        "df.to_csv('Supermarket_Cleaned.csv')"
      ],
      "metadata": {
        "id": "oGYHCZdhOBy5"
      },
      "execution_count": 8,
      "outputs": []
    },
    {
      "cell_type": "markdown",
      "source": [
        "# **#B-Data Analysis**"
      ],
      "metadata": {
        "id": "4uE0SA8QT-aJ"
      }
    },
    {
      "cell_type": "markdown",
      "source": [
        "# **Sales Performance**"
      ],
      "metadata": {
        "id": "HFK1LE8KpsI6"
      }
    },
    {
      "cell_type": "markdown",
      "source": [
        "# 1-Sales Performance by Location ( Branch ,City)"
      ],
      "metadata": {
        "id": "UDu2jcMpUHyv"
      }
    },
    {
      "cell_type": "code",
      "source": [
        "df.groupby(['City','Branch'])['Total'].sum()"
      ],
      "metadata": {
        "colab": {
          "base_uri": "https://localhost:8080/"
        },
        "id": "KVIPAhyJUX1x",
        "outputId": "ee891efc-9196-468a-f22e-3cfb45d139e4"
      },
      "execution_count": 9,
      "outputs": [
        {
          "output_type": "execute_result",
          "data": {
            "text/plain": [
              "City   Branch     \n",
              "Alex   mamoura        110568.7065\n",
              "Cairo  Helioples      106200.3705\n",
              "Gouna  zouni beach    106197.6720\n",
              "Name: Total, dtype: float64"
            ]
          },
          "metadata": {},
          "execution_count": 9
        }
      ]
    },
    {
      "cell_type": "markdown",
      "source": [
        "# 2-Sales Performance by Demographics (Gender,Customer type)"
      ],
      "metadata": {
        "id": "MfdX95MWVXLz"
      }
    },
    {
      "cell_type": "code",
      "source": [
        "df.groupby(['Gender','Customer type'])['Total'].sum()"
      ],
      "metadata": {
        "colab": {
          "base_uri": "https://localhost:8080/"
        },
        "id": "rJXnDyKdWoJ6",
        "outputId": "88815b8e-12ce-491c-b02d-31566503efd1"
      },
      "execution_count": 11,
      "outputs": [
        {
          "output_type": "execute_result",
          "data": {
            "text/plain": [
              "Gender  Customer type\n",
              "Female  Member           88146.9435\n",
              "        Normal           79735.9815\n",
              "Male    Member           76076.5005\n",
              "        Normal           79007.3235\n",
              "Name: Total, dtype: float64"
            ]
          },
          "metadata": {},
          "execution_count": 11
        }
      ]
    },
    {
      "cell_type": "code",
      "source": [
        "df.groupby(['Customer type'])['Total'].sum()"
      ],
      "metadata": {
        "colab": {
          "base_uri": "https://localhost:8080/"
        },
        "id": "R9IcDEthdprg",
        "outputId": "a4f64819-d96a-4f61-c13e-c8a43bc65e2c"
      },
      "execution_count": 13,
      "outputs": [
        {
          "output_type": "execute_result",
          "data": {
            "text/plain": [
              "Customer type\n",
              "Member    164223.444\n",
              "Normal    158743.305\n",
              "Name: Total, dtype: float64"
            ]
          },
          "metadata": {},
          "execution_count": 13
        }
      ]
    },
    {
      "cell_type": "code",
      "source": [
        "df.groupby(['Gender'])['Total'].sum()"
      ],
      "metadata": {
        "colab": {
          "base_uri": "https://localhost:8080/"
        },
        "id": "RLmirKK5dwcF",
        "outputId": "88594ef6-a410-4bc5-a4c3-ebcfcd7e66a0"
      },
      "execution_count": 15,
      "outputs": [
        {
          "output_type": "execute_result",
          "data": {
            "text/plain": [
              "Gender\n",
              "Female    167882.925\n",
              "Male      155083.824\n",
              "Name: Total, dtype: float64"
            ]
          },
          "metadata": {},
          "execution_count": 15
        }
      ]
    },
    {
      "cell_type": "markdown",
      "source": [
        "# 3- Sales Performance by Product (Product Line,Branch)"
      ],
      "metadata": {
        "id": "Grpi6rMGZFAC"
      }
    },
    {
      "cell_type": "code",
      "source": [
        "df.groupby(['Product line'])['Total'].sum()\n"
      ],
      "metadata": {
        "id": "4d3H-zdGZC3y",
        "colab": {
          "base_uri": "https://localhost:8080/"
        },
        "outputId": "aeeafba4-f17e-4480-d78d-f0ed91778181"
      },
      "execution_count": 17,
      "outputs": [
        {
          "output_type": "execute_result",
          "data": {
            "text/plain": [
              "Product line\n",
              "Electronic accessories    54337.5315\n",
              "Fashion accessories       54305.8950\n",
              "Food and beverages        56144.8440\n",
              "Health and beauty         49193.7390\n",
              "Home and lifestyle        53861.9130\n",
              "Sports and travel         55122.8265\n",
              "Name: Total, dtype: float64"
            ]
          },
          "metadata": {},
          "execution_count": 17
        }
      ]
    },
    {
      "cell_type": "code",
      "source": [
        "df.groupby(['Branch','Product line'])['Total'].sum()"
      ],
      "metadata": {
        "colab": {
          "base_uri": "https://localhost:8080/"
        },
        "id": "sudYt112dk0W",
        "outputId": "4b8faaa7-3a2f-46e6-f5d5-24ced1565920"
      },
      "execution_count": 19,
      "outputs": [
        {
          "output_type": "execute_result",
          "data": {
            "text/plain": [
              "Branch       Product line          \n",
              "Helioples    Electronic accessories    18317.1135\n",
              "             Fashion accessories       16332.5085\n",
              "             Food and beverages        17163.1005\n",
              "             Health and beauty         12597.7530\n",
              "             Home and lifestyle        22417.1955\n",
              "             Sports and travel         19372.6995\n",
              "mamoura      Electronic accessories    18968.9745\n",
              "             Fashion accessories       21560.0700\n",
              "             Food and beverages        23766.8550\n",
              "             Health and beauty         16615.3260\n",
              "             Home and lifestyle        13895.5530\n",
              "             Sports and travel         15761.9280\n",
              "zouni beach  Electronic accessories    17051.4435\n",
              "             Fashion accessories       16413.3165\n",
              "             Food and beverages        15214.8885\n",
              "             Health and beauty         19980.6600\n",
              "             Home and lifestyle        17549.1645\n",
              "             Sports and travel         19988.1990\n",
              "Name: Total, dtype: float64"
            ]
          },
          "metadata": {},
          "execution_count": 19
        }
      ]
    },
    {
      "cell_type": "markdown",
      "source": [
        "# 4-Sales Performance by Payment Method (prefered payment method,Branch, product line)"
      ],
      "metadata": {
        "id": "G8vLosC0ebbs"
      }
    },
    {
      "cell_type": "code",
      "source": [
        "df.groupby(['Payment'])['Total'].sum()"
      ],
      "metadata": {
        "colab": {
          "base_uri": "https://localhost:8080/"
        },
        "id": "qIts7tWTeMu_",
        "outputId": "1b48c3ba-404e-440c-f560-37bcc6124b2b"
      },
      "execution_count": 21,
      "outputs": [
        {
          "output_type": "execute_result",
          "data": {
            "text/plain": [
              "Payment\n",
              "Cash           112206.570\n",
              "Credit card    100767.072\n",
              "Ewallet        109993.107\n",
              "Name: Total, dtype: float64"
            ]
          },
          "metadata": {},
          "execution_count": 21
        }
      ]
    },
    {
      "cell_type": "code",
      "source": [
        "df.groupby(['Branch','Payment'])['Total'].sum()"
      ],
      "metadata": {
        "colab": {
          "base_uri": "https://localhost:8080/"
        },
        "id": "mHErWB6OfKzw",
        "outputId": "adee12ce-a624-4182-a39b-56179faecd72"
      },
      "execution_count": 23,
      "outputs": [
        {
          "output_type": "execute_result",
          "data": {
            "text/plain": [
              "Branch       Payment    \n",
              "Helioples    Cash           33781.2510\n",
              "             Credit card    33094.7505\n",
              "             Ewallet        39324.3690\n",
              "mamoura      Cash           43085.8575\n",
              "             Credit card    30327.4650\n",
              "             Ewallet        37155.3840\n",
              "zouni beach  Cash           35339.4615\n",
              "             Credit card    37344.8565\n",
              "             Ewallet        33513.3540\n",
              "Name: Total, dtype: float64"
            ]
          },
          "metadata": {},
          "execution_count": 23
        }
      ]
    },
    {
      "cell_type": "code",
      "source": [
        "df.groupby(['Product line','Payment'])['Total'].sum()"
      ],
      "metadata": {
        "colab": {
          "base_uri": "https://localhost:8080/"
        },
        "id": "hTPmoj1Y_6YO",
        "outputId": "5829ab8d-6bd3-4a9e-bced-8b23d8749f8f"
      },
      "execution_count": 25,
      "outputs": [
        {
          "output_type": "execute_result",
          "data": {
            "text/plain": [
              "Product line            Payment    \n",
              "Electronic accessories  Cash           20729.9820\n",
              "                        Credit card    15428.0175\n",
              "                        Ewallet        18179.5320\n",
              "Fashion accessories     Cash           17613.7920\n",
              "                        Credit card    17335.0695\n",
              "                        Ewallet        19357.0335\n",
              "Food and beverages      Cash           19210.8735\n",
              "                        Credit card    20235.1905\n",
              "                        Ewallet        16698.7800\n",
              "Health and beauty       Cash           17189.1090\n",
              "                        Credit card    15969.4710\n",
              "                        Ewallet        16035.1590\n",
              "Home and lifestyle      Cash           18589.0005\n",
              "                        Credit card    13983.0705\n",
              "                        Ewallet        21289.8420\n",
              "Sports and travel       Cash           18873.8130\n",
              "                        Credit card    17816.2530\n",
              "                        Ewallet        18432.7605\n",
              "Name: Total, dtype: float64"
            ]
          },
          "metadata": {},
          "execution_count": 25
        }
      ]
    },
    {
      "cell_type": "markdown",
      "source": [
        "# 5-Sales Performance by Date (date,Branch,product line)"
      ],
      "metadata": {
        "id": "tbNfhgk0fj7H"
      }
    },
    {
      "cell_type": "code",
      "source": [
        "df['Date'] = pd.to_datetime(df['Date'])\n",
        "df['Month'] = df['Date'].dt.month\n",
        "df['Year'] = df['Date'].dt.year\n",
        "df.groupby(['Month', 'Year'])['Total'].sum()\n"
      ],
      "metadata": {
        "colab": {
          "base_uri": "https://localhost:8080/"
        },
        "id": "zuAgBfONhXFR",
        "outputId": "8d47ae23-8cd5-45a0-e31e-b9fa82f6d583"
      },
      "execution_count": 27,
      "outputs": [
        {
          "output_type": "execute_result",
          "data": {
            "text/plain": [
              "Month  Year\n",
              "1      2019    116291.868\n",
              "2      2019     97219.374\n",
              "3      2019    109455.507\n",
              "Name: Total, dtype: float64"
            ]
          },
          "metadata": {},
          "execution_count": 27
        }
      ]
    },
    {
      "cell_type": "code",
      "source": [
        "df.groupby(['Branch','Month','Year'])['Total'].sum()"
      ],
      "metadata": {
        "colab": {
          "base_uri": "https://localhost:8080/"
        },
        "id": "eKNa_ltFjQPJ",
        "outputId": "7fd4fa28-3f28-445a-cda2-429f376291b5"
      },
      "execution_count": 29,
      "outputs": [
        {
          "output_type": "execute_result",
          "data": {
            "text/plain": [
              "Branch       Month  Year\n",
              "Helioples    1      2019    38681.1285\n",
              "             2      2019    29860.1205\n",
              "             3      2019    37659.1215\n",
              "mamoura      1      2019    40434.6810\n",
              "             2      2019    32934.9825\n",
              "             3      2019    37199.0430\n",
              "zouni beach  1      2019    37176.0585\n",
              "             2      2019    34424.2710\n",
              "             3      2019    34597.3425\n",
              "Name: Total, dtype: float64"
            ]
          },
          "metadata": {},
          "execution_count": 29
        }
      ]
    },
    {
      "cell_type": "code",
      "source": [
        "df.groupby(['Year','Month','Product line'])['Total'].sum()"
      ],
      "metadata": {
        "colab": {
          "base_uri": "https://localhost:8080/"
        },
        "id": "Sb-OX6aPCcza",
        "outputId": "11bec8ae-d223-4d2d-e3bf-be112d3f5977"
      },
      "execution_count": 31,
      "outputs": [
        {
          "output_type": "execute_result",
          "data": {
            "text/plain": [
              "Year  Month  Product line          \n",
              "2019  1      Electronic accessories    18831.2880\n",
              "             Fashion accessories       19345.1160\n",
              "             Food and beverages        19570.5300\n",
              "             Health and beauty         16383.1710\n",
              "             Home and lifestyle        20494.7400\n",
              "             Sports and travel         21667.0230\n",
              "      2      Electronic accessories    17362.9050\n",
              "             Fashion accessories       19009.8615\n",
              "             Food and beverages        20000.3580\n",
              "             Health and beauty         14602.2555\n",
              "             Home and lifestyle        12434.3835\n",
              "             Sports and travel         13809.6105\n",
              "      3      Electronic accessories    18143.3385\n",
              "             Fashion accessories       15950.9175\n",
              "             Food and beverages        16573.9560\n",
              "             Health and beauty         18208.3125\n",
              "             Home and lifestyle        20932.7895\n",
              "             Sports and travel         19646.1930\n",
              "Name: Total, dtype: float64"
            ]
          },
          "metadata": {},
          "execution_count": 31
        }
      ]
    },
    {
      "cell_type": "markdown",
      "source": [
        "# 6-Sales Performance by working hours (time,Branch)"
      ],
      "metadata": {
        "id": "lLLBIsBTlf1b"
      }
    },
    {
      "cell_type": "code",
      "source": [
        "df['Time'] = pd.to_datetime(df['Time'])\n",
        "df['hour']=df['Time'].dt.hour\n",
        "df.groupby(['hour'])['Total'].sum()\n"
      ],
      "metadata": {
        "colab": {
          "base_uri": "https://localhost:8080/"
        },
        "id": "kdnP_hOCkrdG",
        "outputId": "4c181f3f-87a9-4e81-de15-170e8bb92d96"
      },
      "execution_count": 33,
      "outputs": [
        {
          "output_type": "stream",
          "name": "stderr",
          "text": [
            "<ipython-input-33-ff1b2a67a0e7>:1: UserWarning: Could not infer format, so each element will be parsed individually, falling back to `dateutil`. To ensure parsing is consistent and as-expected, please specify a format.\n",
            "  df['Time'] = pd.to_datetime(df['Time'])\n"
          ]
        },
        {
          "output_type": "execute_result",
          "data": {
            "text/plain": [
              "hour\n",
              "10    31421.4810\n",
              "11    30377.3295\n",
              "12    26065.8825\n",
              "13    34723.2270\n",
              "14    30828.3990\n",
              "15    31179.5085\n",
              "16    25226.3235\n",
              "17    24445.2180\n",
              "18    26030.3400\n",
              "19    39699.5130\n",
              "20    22969.5270\n",
              "Name: Total, dtype: float64"
            ]
          },
          "metadata": {},
          "execution_count": 33
        }
      ]
    },
    {
      "cell_type": "code",
      "source": [
        "df.groupby(['Branch','hour'])['Total'].sum()"
      ],
      "metadata": {
        "colab": {
          "base_uri": "https://localhost:8080/"
        },
        "id": "RFjuopSklzAf",
        "outputId": "017620b9-1140-4bd0-d786-d3ea22586b09"
      },
      "execution_count": 35,
      "outputs": [
        {
          "output_type": "execute_result",
          "data": {
            "text/plain": [
              "Branch       hour\n",
              "Helioples    10      11208.4140\n",
              "             11      11349.8910\n",
              "             12       9485.0700\n",
              "             13      10443.7515\n",
              "             14       8852.4135\n",
              "             15      11273.7030\n",
              "             16      10869.7365\n",
              "             17       9043.7340\n",
              "             18       7447.0200\n",
              "             19      10330.2570\n",
              "             20       5896.3800\n",
              "mamoura      10      11347.2240\n",
              "             11       8545.6245\n",
              "             12       8105.4015\n",
              "             13      13007.0640\n",
              "             14      10281.4215\n",
              "             15       9664.6410\n",
              "             16      10233.0270\n",
              "             17       7560.4305\n",
              "             18       9028.0365\n",
              "             19      13106.8035\n",
              "             20       9689.0325\n",
              "zouni beach  10       8865.8430\n",
              "             11      10481.8140\n",
              "             12       8475.4110\n",
              "             13      11272.4115\n",
              "             14      11694.5640\n",
              "             15      10241.1645\n",
              "             16       4123.5600\n",
              "             17       7841.0535\n",
              "             18       9555.2835\n",
              "             19      16262.4525\n",
              "             20       7384.1145\n",
              "Name: Total, dtype: float64"
            ]
          },
          "metadata": {},
          "execution_count": 35
        }
      ]
    },
    {
      "cell_type": "markdown",
      "source": [
        "# **Product demand** **Performance**"
      ],
      "metadata": {
        "id": "6hw0bTE_oAXB"
      }
    },
    {
      "cell_type": "markdown",
      "source": [
        "# 7- product demand performance by locations(Branch,City)"
      ],
      "metadata": {
        "id": "lK_lJWReqo8a"
      }
    },
    {
      "cell_type": "code",
      "source": [
        "df.groupby(['City','Branch'])['Quantity'].sum()"
      ],
      "metadata": {
        "colab": {
          "base_uri": "https://localhost:8080/"
        },
        "id": "EutNJshDq16J",
        "outputId": "718bb99d-9141-4e67-b134-0071059b718b"
      },
      "execution_count": 37,
      "outputs": [
        {
          "output_type": "execute_result",
          "data": {
            "text/plain": [
              "City   Branch     \n",
              "Alex   mamoura        1831\n",
              "Cairo  Helioples      1859\n",
              "Gouna  zouni beach    1820\n",
              "Name: Quantity, dtype: int64"
            ]
          },
          "metadata": {},
          "execution_count": 37
        }
      ]
    },
    {
      "cell_type": "markdown",
      "source": [
        "# 8-product demand performance by Demographics (Gender,Customer type)"
      ],
      "metadata": {
        "id": "cTMxPtvxr6oF"
      }
    },
    {
      "cell_type": "code",
      "source": [
        "df.groupby(['Gender','Customer type'])['Quantity'].sum()"
      ],
      "metadata": {
        "colab": {
          "base_uri": "https://localhost:8080/"
        },
        "id": "NgwVWzAkrsAW",
        "outputId": "d6b1a57d-af9b-4210-9c6f-2e4e41999a86"
      },
      "execution_count": 39,
      "outputs": [
        {
          "output_type": "execute_result",
          "data": {
            "text/plain": [
              "Gender  Customer type\n",
              "Female  Member           1492\n",
              "        Normal           1377\n",
              "Male    Member           1293\n",
              "        Normal           1348\n",
              "Name: Quantity, dtype: int64"
            ]
          },
          "metadata": {},
          "execution_count": 39
        }
      ]
    },
    {
      "cell_type": "code",
      "source": [
        "df.groupby(['Customer type'])['Quantity'].sum()"
      ],
      "metadata": {
        "colab": {
          "base_uri": "https://localhost:8080/"
        },
        "id": "Tcihy8KCz53g",
        "outputId": "4476f849-cf7f-4bae-ae6e-0110431f1397"
      },
      "execution_count": 41,
      "outputs": [
        {
          "output_type": "execute_result",
          "data": {
            "text/plain": [
              "Customer type\n",
              "Member    2785\n",
              "Normal    2725\n",
              "Name: Quantity, dtype: int64"
            ]
          },
          "metadata": {},
          "execution_count": 41
        }
      ]
    },
    {
      "cell_type": "code",
      "source": [
        "df.groupby(['Gender'])['Quantity'].sum()"
      ],
      "metadata": {
        "colab": {
          "base_uri": "https://localhost:8080/"
        },
        "id": "sRcG9hwgz5fz",
        "outputId": "f33570b9-0332-4216-f0be-b15ce85916c4"
      },
      "execution_count": 43,
      "outputs": [
        {
          "output_type": "execute_result",
          "data": {
            "text/plain": [
              "Gender\n",
              "Female    2869\n",
              "Male      2641\n",
              "Name: Quantity, dtype: int64"
            ]
          },
          "metadata": {},
          "execution_count": 43
        }
      ]
    },
    {
      "cell_type": "markdown",
      "source": [
        "# 9-Product demand Performance by Product (Product Line,Branch)"
      ],
      "metadata": {
        "id": "oePghfQE0SOr"
      }
    },
    {
      "cell_type": "code",
      "source": [
        "df.groupby(['Product line'])['Quantity'].sum()"
      ],
      "metadata": {
        "colab": {
          "base_uri": "https://localhost:8080/"
        },
        "id": "ApFQH59S0goM",
        "outputId": "aa5976b4-9d5b-4983-cba6-8efa11fd6a31"
      },
      "execution_count": 45,
      "outputs": [
        {
          "output_type": "execute_result",
          "data": {
            "text/plain": [
              "Product line\n",
              "Electronic accessories    971\n",
              "Fashion accessories       902\n",
              "Food and beverages        952\n",
              "Health and beauty         854\n",
              "Home and lifestyle        911\n",
              "Sports and travel         920\n",
              "Name: Quantity, dtype: int64"
            ]
          },
          "metadata": {},
          "execution_count": 45
        }
      ]
    },
    {
      "cell_type": "code",
      "source": [
        "df.groupby(['Branch','Product line'])['Quantity'].sum()"
      ],
      "metadata": {
        "colab": {
          "base_uri": "https://localhost:8080/"
        },
        "id": "wCmNDZke1EPf",
        "outputId": "5379c5e2-79c1-4bab-89fc-3393c4ff7315"
      },
      "execution_count": 47,
      "outputs": [
        {
          "output_type": "execute_result",
          "data": {
            "text/plain": [
              "Branch       Product line          \n",
              "Helioples    Electronic accessories    322\n",
              "             Fashion accessories       263\n",
              "             Food and beverages        313\n",
              "             Health and beauty         257\n",
              "             Home and lifestyle        371\n",
              "             Sports and travel         333\n",
              "mamoura      Electronic accessories    333\n",
              "             Fashion accessories       342\n",
              "             Food and beverages        369\n",
              "             Health and beauty         277\n",
              "             Home and lifestyle        245\n",
              "             Sports and travel         265\n",
              "zouni beach  Electronic accessories    316\n",
              "             Fashion accessories       297\n",
              "             Food and beverages        270\n",
              "             Health and beauty         320\n",
              "             Home and lifestyle        295\n",
              "             Sports and travel         322\n",
              "Name: Quantity, dtype: int64"
            ]
          },
          "metadata": {},
          "execution_count": 47
        }
      ]
    },
    {
      "cell_type": "markdown",
      "source": [
        "# 10-Product demand Performance by Payment Method (prefered payment method,Branch,product line)"
      ],
      "metadata": {
        "id": "hMoQTLBc1Tnk"
      }
    },
    {
      "cell_type": "code",
      "source": [
        "df.groupby(['Payment'])['Quantity'].sum()"
      ],
      "metadata": {
        "colab": {
          "base_uri": "https://localhost:8080/"
        },
        "id": "658Q7IRY1Wh1",
        "outputId": "05329c1d-7f2e-408f-b4d0-b703b6e10d20"
      },
      "execution_count": 49,
      "outputs": [
        {
          "output_type": "execute_result",
          "data": {
            "text/plain": [
              "Payment\n",
              "Cash           1896\n",
              "Credit card    1722\n",
              "Ewallet        1892\n",
              "Name: Quantity, dtype: int64"
            ]
          },
          "metadata": {},
          "execution_count": 49
        }
      ]
    },
    {
      "cell_type": "code",
      "source": [
        "df.groupby(['Branch','Payment'])['Quantity'].sum()"
      ],
      "metadata": {
        "colab": {
          "base_uri": "https://localhost:8080/"
        },
        "id": "_Gp_w2rS2hJJ",
        "outputId": "5b312b57-d49d-4341-c70b-298cd565bcc5"
      },
      "execution_count": 51,
      "outputs": [
        {
          "output_type": "execute_result",
          "data": {
            "text/plain": [
              "Branch       Payment    \n",
              "Helioples    Cash           572\n",
              "             Credit card    580\n",
              "             Ewallet        707\n",
              "mamoura      Cash           696\n",
              "             Credit card    543\n",
              "             Ewallet        592\n",
              "zouni beach  Cash           628\n",
              "             Credit card    599\n",
              "             Ewallet        593\n",
              "Name: Quantity, dtype: int64"
            ]
          },
          "metadata": {},
          "execution_count": 51
        }
      ]
    },
    {
      "cell_type": "code",
      "source": [
        "df.groupby(['Product line','Payment'])['Quantity'].sum()"
      ],
      "metadata": {
        "colab": {
          "base_uri": "https://localhost:8080/"
        },
        "id": "PwtR57A-220E",
        "outputId": "934a8412-830e-457d-f0b8-84d2be1760b9"
      },
      "execution_count": 53,
      "outputs": [
        {
          "output_type": "execute_result",
          "data": {
            "text/plain": [
              "Product line            Payment    \n",
              "Electronic accessories  Cash           398\n",
              "                        Credit card    262\n",
              "                        Ewallet        311\n",
              "Fashion accessories     Cash           280\n",
              "                        Credit card    293\n",
              "                        Ewallet        329\n",
              "Food and beverages      Cash           295\n",
              "                        Credit card    335\n",
              "                        Ewallet        322\n",
              "Health and beauty       Cash           293\n",
              "                        Credit card    274\n",
              "                        Ewallet        287\n",
              "Home and lifestyle      Cash           306\n",
              "                        Credit card    259\n",
              "                        Ewallet        346\n",
              "Sports and travel       Cash           324\n",
              "                        Credit card    299\n",
              "                        Ewallet        297\n",
              "Name: Quantity, dtype: int64"
            ]
          },
          "metadata": {},
          "execution_count": 53
        }
      ]
    },
    {
      "cell_type": "markdown",
      "source": [
        "# 11-Product demand Performance by Date (date,Branch,product line)"
      ],
      "metadata": {
        "id": "8pmxYqXPAzOB"
      }
    },
    {
      "cell_type": "code",
      "source": [
        "df.groupby(['Year','Month'])['Quantity'].sum()"
      ],
      "metadata": {
        "colab": {
          "base_uri": "https://localhost:8080/"
        },
        "id": "U3ACHC3SBAZ6",
        "outputId": "d5c86001-4caa-4f2c-f811-f567f65e632d"
      },
      "execution_count": 55,
      "outputs": [
        {
          "output_type": "execute_result",
          "data": {
            "text/plain": [
              "Year  Month\n",
              "2019  1        1965\n",
              "      2        1654\n",
              "      3        1891\n",
              "Name: Quantity, dtype: int64"
            ]
          },
          "metadata": {},
          "execution_count": 55
        }
      ]
    },
    {
      "cell_type": "code",
      "source": [
        "df.groupby(['Branch','Year','Month'])['Quantity'].sum()"
      ],
      "metadata": {
        "colab": {
          "base_uri": "https://localhost:8080/"
        },
        "id": "8Ek2Cc4ZBgdu",
        "outputId": "d4328aba-ebba-40de-bc6a-f6dfcf8e32fe"
      },
      "execution_count": 57,
      "outputs": [
        {
          "output_type": "execute_result",
          "data": {
            "text/plain": [
              "Branch       Year  Month\n",
              "Helioples    2019  1        685\n",
              "                   2        493\n",
              "                   3        681\n",
              "mamoura      2019  1        680\n",
              "                   2        537\n",
              "                   3        614\n",
              "zouni beach  2019  1        600\n",
              "                   2        624\n",
              "                   3        596\n",
              "Name: Quantity, dtype: int64"
            ]
          },
          "metadata": {},
          "execution_count": 57
        }
      ]
    },
    {
      "cell_type": "code",
      "source": [
        "df.groupby(['Year','Month','Product line'])['Quantity'].sum()"
      ],
      "metadata": {
        "colab": {
          "base_uri": "https://localhost:8080/"
        },
        "id": "LSPrIws2BxMh",
        "outputId": "262890e9-7e97-4d8c-ea91-1d12d9bbf909"
      },
      "execution_count": 59,
      "outputs": [
        {
          "output_type": "execute_result",
          "data": {
            "text/plain": [
              "Year  Month  Product line          \n",
              "2019  1      Electronic accessories    333\n",
              "             Fashion accessories       336\n",
              "             Food and beverages        325\n",
              "             Health and beauty         254\n",
              "             Home and lifestyle        342\n",
              "             Sports and travel         375\n",
              "      2      Electronic accessories    313\n",
              "             Fashion accessories       295\n",
              "             Food and beverages        349\n",
              "             Health and beauty         266\n",
              "             Home and lifestyle        205\n",
              "             Sports and travel         226\n",
              "      3      Electronic accessories    325\n",
              "             Fashion accessories       271\n",
              "             Food and beverages        278\n",
              "             Health and beauty         334\n",
              "             Home and lifestyle        364\n",
              "             Sports and travel         319\n",
              "Name: Quantity, dtype: int64"
            ]
          },
          "metadata": {},
          "execution_count": 59
        }
      ]
    },
    {
      "cell_type": "markdown",
      "source": [
        "# 12-Product demand Performance by working hours (time,Branch,Product line)"
      ],
      "metadata": {
        "id": "3-zoilbpDr_X"
      }
    },
    {
      "cell_type": "code",
      "source": [
        "df.groupby(['hour'])['Quantity'].sum()"
      ],
      "metadata": {
        "colab": {
          "base_uri": "https://localhost:8080/"
        },
        "id": "EzXky3erD1PY",
        "outputId": "adcd05eb-e286-4380-f261-5d887ec45092"
      },
      "execution_count": 61,
      "outputs": [
        {
          "output_type": "execute_result",
          "data": {
            "text/plain": [
              "hour\n",
              "10    525\n",
              "11    513\n",
              "12    501\n",
              "13    585\n",
              "14    495\n",
              "15    530\n",
              "16    420\n",
              "17    415\n",
              "18    475\n",
              "19    649\n",
              "20    402\n",
              "Name: Quantity, dtype: int64"
            ]
          },
          "metadata": {},
          "execution_count": 61
        }
      ]
    },
    {
      "cell_type": "code",
      "source": [
        "df.groupby(['Branch','hour'])['Quantity'].sum()"
      ],
      "metadata": {
        "colab": {
          "base_uri": "https://localhost:8080/"
        },
        "id": "ERJjHhRyEXZH",
        "outputId": "68be57c8-d10f-4982-af87-f23bbb2d3eb4"
      },
      "execution_count": 63,
      "outputs": [
        {
          "output_type": "execute_result",
          "data": {
            "text/plain": [
              "Branch       hour\n",
              "Helioples    10      192\n",
              "             11      185\n",
              "             12      186\n",
              "             13      183\n",
              "             14      121\n",
              "             15      193\n",
              "             16      182\n",
              "             17      158\n",
              "             18      162\n",
              "             19      172\n",
              "             20      125\n",
              "mamoura      10      181\n",
              "             11      136\n",
              "             12      166\n",
              "             13      201\n",
              "             14      173\n",
              "             15      146\n",
              "             16      161\n",
              "             17      151\n",
              "             18      138\n",
              "             19      222\n",
              "             20      156\n",
              "zouni beach  10      152\n",
              "             11      192\n",
              "             12      149\n",
              "             13      201\n",
              "             14      201\n",
              "             15      191\n",
              "             16       77\n",
              "             17      106\n",
              "             18      175\n",
              "             19      255\n",
              "             20      121\n",
              "Name: Quantity, dtype: int64"
            ]
          },
          "metadata": {},
          "execution_count": 63
        }
      ]
    },
    {
      "cell_type": "code",
      "source": [
        "df.groupby(['Product line','hour'])['Quantity'].sum()"
      ],
      "metadata": {
        "colab": {
          "base_uri": "https://localhost:8080/"
        },
        "id": "rQ4-iMtcE3A-",
        "outputId": "f69e0a73-27fd-4b88-d77e-18589b4ffa33"
      },
      "execution_count": 65,
      "outputs": [
        {
          "output_type": "execute_result",
          "data": {
            "text/plain": [
              "Product line            hour\n",
              "Electronic accessories  10       89\n",
              "                        11       98\n",
              "                        12       89\n",
              "                        13       76\n",
              "                        14       84\n",
              "                               ... \n",
              "Sports and travel       16       96\n",
              "                        17       54\n",
              "                        18       57\n",
              "                        19      131\n",
              "                        20       22\n",
              "Name: Quantity, Length: 66, dtype: int64"
            ]
          },
          "metadata": {},
          "execution_count": 65
        }
      ]
    },
    {
      "cell_type": "markdown",
      "source": [
        "# **Customer Satisfaction** **Indicators**"
      ],
      "metadata": {
        "id": "2BXccqcxG-Cz"
      }
    },
    {
      "cell_type": "markdown",
      "source": [
        "#Rating Data Distribution (Normal Distribution)"
      ],
      "metadata": {
        "id": "SsQxiecEb65q"
      }
    },
    {
      "cell_type": "code",
      "source": [
        "import matplotlib.pyplot as plt # Corrected module name\n",
        "plt.figure(figsize=(8,6))\n",
        "plt.hist(df['Rating'], bins=5, edgecolor='black')\n",
        "plt.xlabel('Rating')\n",
        "plt.ylabel('Frequency')\n",
        "plt.title('Customer Satisfaction')\n",
        "plt.show() # Call the show function to display the plot"
      ],
      "metadata": {
        "id": "_5Jdg0EsHk9E",
        "colab": {
          "base_uri": "https://localhost:8080/",
          "height": 564
        },
        "outputId": "4da861be-7538-49d7-fbe2-d55fb4651d1c"
      },
      "execution_count": 67,
      "outputs": [
        {
          "output_type": "display_data",
          "data": {
            "text/plain": [
              "<Figure size 800x600 with 1 Axes>"
            ],
            "image/png": "[encoded data removed]"
          },
          "metadata": {}
        }
      ]
    },
    {
      "cell_type": "markdown",
      "source": [
        "# 13- Customer Satisfaction by Location (Branch,City)"
      ],
      "metadata": {
        "id": "smuMZBCccVZq"
      }
    },
    {
      "cell_type": "code",
      "source": [
        "df.groupby(['Branch'])['Rating'].mean()"
      ],
      "metadata": {
        "colab": {
          "base_uri": "https://localhost:8080/"
        },
        "id": "Knekt6HKcf4Q",
        "outputId": "5eb0cf8b-1531-428d-b950-30b6f7dd82ed"
      },
      "execution_count": 68,
      "outputs": [
        {
          "output_type": "execute_result",
          "data": {
            "text/plain": [
              "Branch\n",
              "Helioples      7.027059\n",
              "mamoura        7.072866\n",
              "zouni beach    6.818072\n",
              "Name: Rating, dtype: float64"
            ]
          },
          "metadata": {},
          "execution_count": 68
        }
      ]
    },
    {
      "cell_type": "code",
      "source": [
        "df.groupby(['City'])['Rating'].mean()"
      ],
      "metadata": {
        "colab": {
          "base_uri": "https://localhost:8080/"
        },
        "id": "-fHuO8wFdtPT",
        "outputId": "e7f59b9a-968e-43b4-89b4-5a51f8751695"
      },
      "execution_count": 70,
      "outputs": [
        {
          "output_type": "execute_result",
          "data": {
            "text/plain": [
              "City\n",
              "Alex     7.072866\n",
              "Cairo    7.027059\n",
              "Gouna    6.818072\n",
              "Name: Rating, dtype: float64"
            ]
          },
          "metadata": {},
          "execution_count": 70
        }
      ]
    },
    {
      "cell_type": "markdown",
      "source": [
        "## 14- Customer Satisfaction by Demographics (Gender,customer type)"
      ],
      "metadata": {
        "id": "NySUze8CcxKZ"
      }
    },
    {
      "cell_type": "code",
      "source": [
        "df.groupby(['Gender'])['Rating'].mean()"
      ],
      "metadata": {
        "colab": {
          "base_uri": "https://localhost:8080/"
        },
        "id": "sdJOErzDc2kj",
        "outputId": "4f01600c-0a9c-448a-cf27-dc8003bdb0ba"
      },
      "execution_count": 72,
      "outputs": [
        {
          "output_type": "execute_result",
          "data": {
            "text/plain": [
              "Gender\n",
              "Female    6.964471\n",
              "Male      6.980962\n",
              "Name: Rating, dtype: float64"
            ]
          },
          "metadata": {},
          "execution_count": 72
        }
      ]
    },
    {
      "cell_type": "code",
      "source": [
        "df.groupby(['Customer type'])['Rating'].mean()"
      ],
      "metadata": {
        "colab": {
          "base_uri": "https://localhost:8080/"
        },
        "id": "Rbu9oH8gdYg7",
        "outputId": "8448e3c0-963b-4aae-aa76-7b38cdf75e84"
      },
      "execution_count": 74,
      "outputs": [
        {
          "output_type": "execute_result",
          "data": {
            "text/plain": [
              "Customer type\n",
              "Member    6.940319\n",
              "Normal    7.005210\n",
              "Name: Rating, dtype: float64"
            ]
          },
          "metadata": {},
          "execution_count": 74
        }
      ]
    },
    {
      "cell_type": "markdown",
      "source": [
        "# 15-Customer Satisfaction by Product (Product line, gender,customer type)"
      ],
      "metadata": {
        "id": "FpTg9n03e27f"
      }
    },
    {
      "cell_type": "code",
      "source": [
        "df.groupby(['Product line'])['Rating'].mean()"
      ],
      "metadata": {
        "colab": {
          "base_uri": "https://localhost:8080/"
        },
        "id": "TMp_rlSdfOL_",
        "outputId": "9ff06a31-da6d-4f52-d8f9-6c04f7157331"
      },
      "execution_count": 76,
      "outputs": [
        {
          "output_type": "execute_result",
          "data": {
            "text/plain": [
              "Product line\n",
              "Electronic accessories    6.924706\n",
              "Fashion accessories       7.029213\n",
              "Food and beverages        7.113218\n",
              "Health and beauty         7.003289\n",
              "Home and lifestyle        6.837500\n",
              "Sports and travel         6.916265\n",
              "Name: Rating, dtype: float64"
            ]
          },
          "metadata": {},
          "execution_count": 76
        }
      ]
    },
    {
      "cell_type": "code",
      "source": [
        "df.groupby(['Gender','Product line'])['Rating'].mean()"
      ],
      "metadata": {
        "colab": {
          "base_uri": "https://localhost:8080/"
        },
        "id": "6KvWd102fusv",
        "outputId": "ced814fc-1c6d-4a3e-b504-af250efbf9f1"
      },
      "execution_count": 78,
      "outputs": [
        {
          "output_type": "execute_result",
          "data": {
            "text/plain": [
              "Gender  Product line          \n",
              "Female  Electronic accessories    6.786905\n",
              "        Fashion accessories       7.120833\n",
              "        Food and beverages        7.203333\n",
              "        Health and beauty         7.146875\n",
              "        Home and lifestyle        6.763291\n",
              "        Sports and travel         6.767045\n",
              "Male    Electronic accessories    7.059302\n",
              "        Fashion accessories       6.921951\n",
              "        Food and beverages        7.016667\n",
              "        Health and beauty         6.898864\n",
              "        Home and lifestyle        6.909877\n",
              "        Sports and travel         7.084615\n",
              "Name: Rating, dtype: float64"
            ]
          },
          "metadata": {},
          "execution_count": 78
        }
      ]
    },
    {
      "cell_type": "code",
      "source": [
        "df.groupby(['Customer type','Product line'])['Rating'].mean()"
      ],
      "metadata": {
        "colab": {
          "base_uri": "https://localhost:8080/"
        },
        "id": "2b0pixHRgJds",
        "outputId": "a76e03ec-d5e6-451a-c6f5-310c2fed02ad"
      },
      "execution_count": 80,
      "outputs": [
        {
          "output_type": "execute_result",
          "data": {
            "text/plain": [
              "Customer type  Product line          \n",
              "Member         Electronic accessories    6.950000\n",
              "               Fashion accessories       6.946512\n",
              "               Food and beverages        6.996809\n",
              "               Health and beauty         7.078082\n",
              "               Home and lifestyle        6.868675\n",
              "               Sports and travel         6.817241\n",
              "Normal         Electronic accessories    6.903261\n",
              "               Fashion accessories       7.106522\n",
              "               Food and beverages        7.250000\n",
              "               Health and beauty         6.934177\n",
              "               Home and lifestyle        6.803896\n",
              "               Sports and travel         7.025316\n",
              "Name: Rating, dtype: float64"
            ]
          },
          "metadata": {},
          "execution_count": 80
        }
      ]
    },
    {
      "cell_type": "markdown",
      "source": [
        "# 16-Customer Satisfaction by Payment Method(payment,Branch,Product line)"
      ],
      "metadata": {
        "id": "Pl7nL_vvgcTy"
      }
    },
    {
      "cell_type": "code",
      "source": [
        "df.groupby(['Payment'])['Rating'].mean()"
      ],
      "metadata": {
        "colab": {
          "base_uri": "https://localhost:8080/"
        },
        "id": "IdnVp2ljg-7b",
        "outputId": "c4599139-3710-46d2-b972-b439a0eb2e17"
      },
      "execution_count": 82,
      "outputs": [
        {
          "output_type": "execute_result",
          "data": {
            "text/plain": [
              "Payment\n",
              "Cash           6.970058\n",
              "Credit card    7.003215\n",
              "Ewallet        6.947826\n",
              "Name: Rating, dtype: float64"
            ]
          },
          "metadata": {},
          "execution_count": 82
        }
      ]
    },
    {
      "cell_type": "code",
      "source": [
        "df.groupby(['Branch','Payment'])['Rating'].mean()"
      ],
      "metadata": {
        "colab": {
          "base_uri": "https://localhost:8080/"
        },
        "id": "C_F2iEbghNAe",
        "outputId": "1a82d00b-5d25-4178-f9cf-0cecc3f21a29"
      },
      "execution_count": 84,
      "outputs": [
        {
          "output_type": "execute_result",
          "data": {
            "text/plain": [
              "Branch       Payment    \n",
              "Helioples    Cash           6.938182\n",
              "             Credit card    6.985577\n",
              "             Ewallet        7.138889\n",
              "mamoura      Cash           6.973387\n",
              "             Credit card    7.291837\n",
              "             Ewallet        6.986792\n",
              "zouni beach  Cash           6.998182\n",
              "             Credit card    6.760550\n",
              "             Ewallet        6.698230\n",
              "Name: Rating, dtype: float64"
            ]
          },
          "metadata": {},
          "execution_count": 84
        }
      ]
    },
    {
      "cell_type": "code",
      "source": [
        "df.groupby(['Payment','Product line'])['Rating'].mean()"
      ],
      "metadata": {
        "colab": {
          "base_uri": "https://localhost:8080/"
        },
        "id": "K3GUSW2qhVQ2",
        "outputId": "f29ff356-2c39-4d6d-b6fc-0c5874946669"
      },
      "execution_count": 86,
      "outputs": [
        {
          "output_type": "execute_result",
          "data": {
            "text/plain": [
              "Payment      Product line          \n",
              "Cash         Electronic accessories    6.930986\n",
              "             Fashion accessories       6.996491\n",
              "             Food and beverages        7.338596\n",
              "             Health and beauty         7.228571\n",
              "             Home and lifestyle        6.452941\n",
              "             Sports and travel         6.867797\n",
              "Credit card  Electronic accessories    7.184783\n",
              "             Fashion accessories       6.880357\n",
              "             Food and beverages        7.208197\n",
              "             Health and beauty         6.870000\n",
              "             Home and lifestyle        6.782222\n",
              "             Sports and travel         7.052830\n",
              "Ewallet      Electronic accessories    6.690566\n",
              "             Fashion accessories       7.186154\n",
              "             Food and beverages        6.780357\n",
              "             Health and beauty         6.920755\n",
              "             Home and lifestyle        7.182812\n",
              "             Sports and travel         6.835185\n",
              "Name: Rating, dtype: float64"
            ]
          },
          "metadata": {},
          "execution_count": 86
        }
      ]
    },
    {
      "cell_type": "markdown",
      "source": [
        "# 17- Customer Satisfaction by Date (Date, Branch ,Product Line)"
      ],
      "metadata": {
        "id": "z2ARGmgKhjjb"
      }
    },
    {
      "cell_type": "code",
      "source": [
        "df.groupby(['Year','Month'])['Rating'].mean()"
      ],
      "metadata": {
        "colab": {
          "base_uri": "https://localhost:8080/"
        },
        "id": "BfNPShZvh-x9",
        "outputId": "8cd7cb10-2bad-4bae-e4c4-2c43d59d40dd"
      },
      "execution_count": 88,
      "outputs": [
        {
          "output_type": "execute_result",
          "data": {
            "text/plain": [
              "Year  Month\n",
              "2019  1        7.017614\n",
              "      2        7.071287\n",
              "      3        6.840290\n",
              "Name: Rating, dtype: float64"
            ]
          },
          "metadata": {},
          "execution_count": 88
        }
      ]
    },
    {
      "cell_type": "code",
      "source": [
        "df.groupby(['Branch','Year','Month'])['Rating'].mean()"
      ],
      "metadata": {
        "colab": {
          "base_uri": "https://localhost:8080/"
        },
        "id": "-r0tVG1GidHV",
        "outputId": "c045c1be-ce38-48f2-faea-d76013de218a"
      },
      "execution_count": 90,
      "outputs": [
        {
          "output_type": "execute_result",
          "data": {
            "text/plain": [
              "Branch       Year  Month\n",
              "Helioples    2019  1        7.078151\n",
              "                   2        7.007447\n",
              "                   3        6.993701\n",
              "mamoura      2019  1        7.154918\n",
              "                   2        7.200000\n",
              "                   3        6.858491\n",
              "zouni beach  2019  1        6.801802\n",
              "                   2        7.008257\n",
              "                   3        6.649107\n",
              "Name: Rating, dtype: float64"
            ]
          },
          "metadata": {},
          "execution_count": 90
        }
      ]
    },
    {
      "cell_type": "code",
      "source": [
        "df.groupby(['Year','Month','Product line'])['Rating'].mean()"
      ],
      "metadata": {
        "colab": {
          "base_uri": "https://localhost:8080/"
        },
        "id": "zWI-iGwNi9Uf",
        "outputId": "e1b8f15d-6459-4605-8cf1-17207e3307dc"
      },
      "execution_count": 92,
      "outputs": [
        {
          "output_type": "execute_result",
          "data": {
            "text/plain": [
              "Year  Month  Product line          \n",
              "2019  1      Electronic accessories    7.142593\n",
              "             Fashion accessories       7.060937\n",
              "             Food and beverages        7.405357\n",
              "             Health and beauty         7.128571\n",
              "             Home and lifestyle        6.672881\n",
              "             Sports and travel         6.784286\n",
              "      2      Electronic accessories    6.964815\n",
              "             Fashion accessories       7.081667\n",
              "             Food and beverages        7.012903\n",
              "             Health and beauty         7.206522\n",
              "             Home and lifestyle        7.071053\n",
              "             Sports and travel         7.130233\n",
              "      3      Electronic accessories    6.700000\n",
              "             Fashion accessories       6.933333\n",
              "             Food and beverages        6.932143\n",
              "             Health and beauty         6.731579\n",
              "             Home and lifestyle        6.850794\n",
              "             Sports and travel         6.916981\n",
              "Name: Rating, dtype: float64"
            ]
          },
          "metadata": {},
          "execution_count": 92
        }
      ]
    },
    {
      "cell_type": "markdown",
      "source": [
        "# 18-Customer Satisfaction by Working Hours (Time, Branch ,Product Line)"
      ],
      "metadata": {
        "id": "H6R90KHGiuGn"
      }
    },
    {
      "cell_type": "code",
      "source": [
        "df.groupby(['hour'])['Rating'].mean()"
      ],
      "metadata": {
        "id": "Eea6imFbi3bj",
        "colab": {
          "base_uri": "https://localhost:8080/"
        },
        "outputId": "78d9d395-215d-41e0-cb71-d21fe4044a9f"
      },
      "execution_count": 94,
      "outputs": [
        {
          "output_type": "execute_result",
          "data": {
            "text/plain": [
              "hour\n",
              "10    7.098020\n",
              "11    6.806667\n",
              "12    7.300000\n",
              "13    7.030097\n",
              "14    6.934940\n",
              "15    6.876471\n",
              "16    6.859740\n",
              "17    6.939189\n",
              "18    7.187097\n",
              "19    6.716814\n",
              "20    6.977333\n",
              "Name: Rating, dtype: float64"
            ]
          },
          "metadata": {},
          "execution_count": 94
        }
      ]
    },
    {
      "cell_type": "code",
      "source": [
        "df.groupby(['hour','Branch'])['Rating'].mean()"
      ],
      "metadata": {
        "colab": {
          "base_uri": "https://localhost:8080/"
        },
        "id": "84-fbSbXrA7L",
        "outputId": "2e54149b-e3aa-4650-87ab-9f22cc7f30d2"
      },
      "execution_count": 96,
      "outputs": [
        {
          "output_type": "execute_result",
          "data": {
            "text/plain": [
              "hour  Branch     \n",
              "10    Helioples      7.157895\n",
              "      mamoura        7.164865\n",
              "      zouni beach    6.915385\n",
              "11    Helioples      6.840000\n",
              "      mamoura        6.654545\n",
              "      zouni beach    6.872727\n",
              "12    Helioples      7.163636\n",
              "      mamoura        7.367742\n",
              "      zouni beach    7.396000\n",
              "13    Helioples      7.300000\n",
              "      mamoura        7.135294\n",
              "      zouni beach    6.715789\n",
              "14    Helioples      7.000000\n",
              "      mamoura        7.039286\n",
              "      zouni beach    6.783333\n",
              "15    Helioples      7.245946\n",
              "      mamoura        6.736364\n",
              "      zouni beach    6.593750\n",
              "16    Helioples      6.718750\n",
              "      mamoura        7.139286\n",
              "      zouni beach    6.664706\n",
              "17    Helioples      6.840741\n",
              "      mamoura        7.185185\n",
              "      zouni beach    6.740000\n",
              "18    Helioples      7.318182\n",
              "      mamoura        7.312000\n",
              "      zouni beach    6.974286\n",
              "19    Helioples      6.851852\n",
              "      mamoura        6.841667\n",
              "      zouni beach    6.554000\n",
              "20    Helioples      6.627273\n",
              "      mamoura        7.222222\n",
              "      zouni beach    7.019231\n",
              "Name: Rating, dtype: float64"
            ]
          },
          "metadata": {},
          "execution_count": 96
        }
      ]
    },
    {
      "cell_type": "code",
      "source": [
        "df.groupby(['hour','Product line'])['Rating'].mean()"
      ],
      "metadata": {
        "colab": {
          "base_uri": "https://localhost:8080/"
        },
        "id": "WBcDTI5Rrdt_",
        "outputId": "5a2ef3ba-9e5e-4f86-cca9-313068bd3bab"
      },
      "execution_count": 98,
      "outputs": [
        {
          "output_type": "execute_result",
          "data": {
            "text/plain": [
              "hour  Product line          \n",
              "10    Electronic accessories    7.564706\n",
              "      Fashion accessories       7.064286\n",
              "      Food and beverages        7.465000\n",
              "      Health and beauty         6.958824\n",
              "      Home and lifestyle        6.761111\n",
              "                                  ...   \n",
              "20    Fashion accessories       7.100000\n",
              "      Food and beverages        7.340000\n",
              "      Health and beauty         6.764286\n",
              "      Home and lifestyle        6.360000\n",
              "      Sports and travel         6.925000\n",
              "Name: Rating, Length: 66, dtype: float64"
            ]
          },
          "metadata": {},
          "execution_count": 98
        }
      ]
    },
    {
      "cell_type": "markdown",
      "source": [
        "# **19- which branch have highest gross income , how and how can other branches do that?**"
      ],
      "metadata": {
        "id": "jCy-5WbaCLKW"
      }
    },
    {
      "cell_type": "markdown",
      "source": [
        "# **Quetion 1** - which branch have the highest gross income ?"
      ],
      "metadata": {
        "id": "D0MNhiu2OaKd"
      }
    },
    {
      "cell_type": "code",
      "source": [
        "df.groupby(['Branch'])['gross income'].sum()"
      ],
      "metadata": {
        "colab": {
          "base_uri": "https://localhost:8080/"
        },
        "id": "dNY56cWGBrzc",
        "outputId": "656dd27c-1e9c-4072-ad8c-8dcd6dfe30b3"
      },
      "execution_count": 100,
      "outputs": [
        {
          "output_type": "execute_result",
          "data": {
            "text/plain": [
              "Branch\n",
              "Helioples      5057.1605\n",
              "mamoura        5265.1765\n",
              "zouni beach    5057.0320\n",
              "Name: gross income, dtype: float64"
            ]
          },
          "metadata": {},
          "execution_count": 100
        }
      ]
    },
    {
      "cell_type": "code",
      "source": [
        "df.groupby(['Product line','Branch'])['gross income'].sum()"
      ],
      "metadata": {
        "colab": {
          "base_uri": "https://localhost:8080/"
        },
        "id": "Hu0bNADZC3kt",
        "outputId": "c32edd90-ee86-4654-83ac-641adc441ddb"
      },
      "execution_count": 101,
      "outputs": [
        {
          "output_type": "execute_result",
          "data": {
            "text/plain": [
              "Product line            Branch     \n",
              "Electronic accessories  Helioples       872.2435\n",
              "                        mamoura         903.2845\n",
              "                        zouni beach     811.9735\n",
              "Fashion accessories     Helioples       777.7385\n",
              "                        mamoura        1026.6700\n",
              "                        zouni beach     781.5865\n",
              "Food and beverages      Helioples       817.2905\n",
              "                        mamoura        1131.7550\n",
              "                        zouni beach     724.5185\n",
              "Health and beauty       Helioples       599.8930\n",
              "                        mamoura         791.2060\n",
              "                        zouni beach     951.4600\n",
              "Home and lifestyle      Helioples      1067.4855\n",
              "                        mamoura         661.6930\n",
              "                        zouni beach     835.6745\n",
              "Sports and travel       Helioples       922.5095\n",
              "                        mamoura         750.5680\n",
              "                        zouni beach     951.8190\n",
              "Name: gross income, dtype: float64"
            ]
          },
          "metadata": {},
          "execution_count": 101
        }
      ]
    },
    {
      "cell_type": "markdown",
      "source": [
        "# **Answer 1**- mamoura branch is the highest gross income more than other branches."
      ],
      "metadata": {
        "id": "MkRvB6xYCoRh"
      }
    },
    {
      "cell_type": "markdown",
      "source": [
        "# **Quetion 2**- How the mamoura branch do that ?"
      ],
      "metadata": {
        "id": "88-tPGLKOLVj"
      }
    },
    {
      "cell_type": "markdown",
      "source": [
        "# Rating view"
      ],
      "metadata": {
        "id": "4gqFw4VFNcR6"
      }
    },
    {
      "cell_type": "code",
      "source": [
        "df.groupby(['Branch'])['Rating'].mean()"
      ],
      "metadata": {
        "colab": {
          "base_uri": "https://localhost:8080/"
        },
        "id": "pN8V1u3EJts8",
        "outputId": "0d568775-8570-4650-9fd3-2a3a55a9790b"
      },
      "execution_count": 102,
      "outputs": [
        {
          "output_type": "execute_result",
          "data": {
            "text/plain": [
              "Branch\n",
              "Helioples      7.027059\n",
              "mamoura        7.072866\n",
              "zouni beach    6.818072\n",
              "Name: Rating, dtype: float64"
            ]
          },
          "metadata": {},
          "execution_count": 102
        }
      ]
    },
    {
      "cell_type": "code",
      "source": [
        "df.groupby(['Product line','Branch'])['Rating'].mean()"
      ],
      "metadata": {
        "colab": {
          "base_uri": "https://localhost:8080/"
        },
        "id": "cNWkjqoUEQm5",
        "outputId": "9f6e074a-b9db-4242-e37c-de374135c65a"
      },
      "execution_count": 103,
      "outputs": [
        {
          "output_type": "execute_result",
          "data": {
            "text/plain": [
              "Product line            Branch     \n",
              "Electronic accessories  Helioples      6.911667\n",
              "                        mamoura        6.747273\n",
              "                        zouni beach    7.116364\n",
              "Fashion accessories     Helioples      6.878431\n",
              "                        mamoura        7.440000\n",
              "                        zouni beach    6.722581\n",
              "Food and beverages      Helioples      7.253448\n",
              "                        mamoura        7.080303\n",
              "                        zouni beach    6.994000\n",
              "Health and beauty       Helioples      6.900000\n",
              "                        mamoura        6.998077\n",
              "                        zouni beach    7.100000\n",
              "Home and lifestyle      Helioples      6.930769\n",
              "                        mamoura        7.060000\n",
              "                        zouni beach    6.516000\n",
              "Sports and travel       Helioples      7.257627\n",
              "                        mamoura        7.028889\n",
              "                        zouni beach    6.509677\n",
              "Name: Rating, dtype: float64"
            ]
          },
          "metadata": {},
          "execution_count": 103
        }
      ]
    },
    {
      "cell_type": "markdown",
      "source": [
        "**Mamoura branch have the highest customers satisaction rate more than other branches at (Fashion accessories - Home & lifstyle ) product lines**"
      ],
      "metadata": {
        "id": "tlUo6rN9Pr8D"
      }
    },
    {
      "cell_type": "markdown",
      "source": [
        "# Payment methods View"
      ],
      "metadata": {
        "id": "rA9KLZwNNh_3"
      }
    },
    {
      "cell_type": "code",
      "source": [
        "df.groupby(['Product line','Branch','Payment'])['gross income'].sum()"
      ],
      "metadata": {
        "colab": {
          "base_uri": "https://localhost:8080/"
        },
        "id": "ZYcCn-VJEyAr",
        "outputId": "81662031-8616-41b7-bcc2-e5793935defd"
      },
      "execution_count": 104,
      "outputs": [
        {
          "output_type": "execute_result",
          "data": {
            "text/plain": [
              "Product line            Branch       Payment    \n",
              "Electronic accessories  Helioples    Cash           198.4045\n",
              "                                     Credit card    363.4565\n",
              "                                     Ewallet        310.3825\n",
              "                        mamoura      Cash           459.3790\n",
              "                                     Credit card    133.3785\n",
              "                                     Ewallet        310.5270\n",
              "                        zouni beach  Cash           329.3585\n",
              "                                     Credit card    237.8325\n",
              "                                     Ewallet        244.7825\n",
              "Fashion accessories     Helioples    Cash           204.1670\n",
              "                                     Credit card    249.7790\n",
              "                                     Ewallet        323.7925\n",
              "                        mamoura      Cash           365.1940\n",
              "                                     Credit card    288.5925\n",
              "                                     Ewallet        372.8835\n",
              "                        zouni beach  Cash           269.3910\n",
              "                                     Credit card    287.1080\n",
              "                                     Ewallet        225.0875\n",
              "Food and beverages      Helioples    Cash           247.9560\n",
              "                                     Credit card    295.4635\n",
              "                                     Ewallet        273.8710\n",
              "                        mamoura      Cash           540.3915\n",
              "                                     Credit card    259.7760\n",
              "                                     Ewallet        331.5875\n",
              "                        zouni beach  Cash           126.4560\n",
              "                                     Credit card    408.3410\n",
              "                                     Ewallet        189.7215\n",
              "Health and beauty       Helioples    Cash           194.1335\n",
              "                                     Credit card    160.2610\n",
              "                                     Ewallet        245.4985\n",
              "                        mamoura      Cash           256.3965\n",
              "                                     Credit card    305.0515\n",
              "                                     Ewallet        229.7580\n",
              "                        zouni beach  Cash           367.9990\n",
              "                                     Credit card    295.1385\n",
              "                                     Ewallet        288.3225\n",
              "Home and lifestyle      Helioples    Cash           466.2805\n",
              "                                     Credit card    229.1615\n",
              "                                     Ewallet        372.0435\n",
              "                        mamoura      Cash           207.4465\n",
              "                                     Credit card    180.6045\n",
              "                                     Ewallet        273.6420\n",
              "                        zouni beach  Cash           211.4635\n",
              "                                     Credit card    256.0945\n",
              "                                     Ewallet        368.1165\n",
              "Sports and travel       Helioples    Cash           297.6895\n",
              "                                     Credit card    277.8190\n",
              "                                     Ewallet        347.0010\n",
              "                        mamoura      Cash           222.9000\n",
              "                                     Credit card    276.7620\n",
              "                                     Ewallet        250.9060\n",
              "                        zouni beach  Cash           378.1635\n",
              "                                     Credit card    293.8120\n",
              "                                     Ewallet        279.8435\n",
              "Name: gross income, dtype: float64"
            ]
          },
          "metadata": {},
          "execution_count": 104
        }
      ]
    },
    {
      "cell_type": "markdown",
      "source": [
        "**Mamoura branch have the highest gross income from cash more than other branches at (Fashion accessories - Electronic accessories- Food & beverages ) product line**"
      ],
      "metadata": {
        "id": "vkSRu5GvWojT"
      }
    },
    {
      "cell_type": "markdown",
      "source": [
        "# Demographics View"
      ],
      "metadata": {
        "id": "g3k4lpiuNpV3"
      }
    },
    {
      "cell_type": "code",
      "source": [
        "df.groupby(['Gender'])['gross income'].sum()"
      ],
      "metadata": {
        "colab": {
          "base_uri": "https://localhost:8080/"
        },
        "id": "q_G_cLDwYbgf",
        "outputId": "436251f4-78d3-4ba8-f52b-6842fa0c6dde"
      },
      "execution_count": 105,
      "outputs": [
        {
          "output_type": "execute_result",
          "data": {
            "text/plain": [
              "Gender\n",
              "Female    7994.425\n",
              "Male      7384.944\n",
              "Name: gross income, dtype: float64"
            ]
          },
          "metadata": {},
          "execution_count": 105
        }
      ]
    },
    {
      "cell_type": "code",
      "source": [
        "df.groupby(['Gender','Branch'])['gross income'].sum()"
      ],
      "metadata": {
        "colab": {
          "base_uri": "https://localhost:8080/"
        },
        "id": "yWzbCW3bYLcm",
        "outputId": "23982ebe-d5ea-4bb6-c9e4-34783ff54c79"
      },
      "execution_count": 106,
      "outputs": [
        {
          "output_type": "execute_result",
          "data": {
            "text/plain": [
              "Gender  Branch     \n",
              "Female  Helioples      2536.6270\n",
              "        mamoura        2937.4030\n",
              "        zouni beach    2520.3950\n",
              "Male    Helioples      2520.5335\n",
              "        mamoura        2327.7735\n",
              "        zouni beach    2536.6370\n",
              "Name: gross income, dtype: float64"
            ]
          },
          "metadata": {},
          "execution_count": 106
        }
      ]
    },
    {
      "cell_type": "code",
      "source": [
        "df.groupby(['Gender','Product line'])['gross income'].sum()"
      ],
      "metadata": {
        "colab": {
          "base_uri": "https://localhost:8080/"
        },
        "id": "pmuKj5g0YWGf",
        "outputId": "27760d5e-a619-4019-82f9-7589c50cca73"
      },
      "execution_count": 107,
      "outputs": [
        {
          "output_type": "execute_result",
          "data": {
            "text/plain": [
              "Gender  Product line          \n",
              "Female  Electronic accessories    1290.5725\n",
              "        Fashion accessories       1449.4000\n",
              "        Food and beverages        1579.5675\n",
              "        Health and beauty          883.8565\n",
              "        Home and lifestyle        1430.3275\n",
              "        Sports and travel         1360.7010\n",
              "Male    Electronic accessories    1296.9290\n",
              "        Fashion accessories       1136.5950\n",
              "        Food and beverages        1093.9965\n",
              "        Health and beauty         1458.7025\n",
              "        Home and lifestyle        1134.5255\n",
              "        Sports and travel         1264.1955\n",
              "Name: gross income, dtype: float64"
            ]
          },
          "metadata": {},
          "execution_count": 107
        }
      ]
    },
    {
      "cell_type": "code",
      "source": [
        "df.groupby(['Gender','Branch','Product line'])['gross income'].sum()"
      ],
      "metadata": {
        "colab": {
          "base_uri": "https://localhost:8080/"
        },
        "id": "gfD_1ffyKRcJ",
        "outputId": "30e51697-df75-4f7a-b1ae-8485f8dd5a75"
      },
      "execution_count": 108,
      "outputs": [
        {
          "output_type": "execute_result",
          "data": {
            "text/plain": [
              "Gender  Branch       Product line          \n",
              "Female  Helioples    Electronic accessories    474.5855\n",
              "                     Fashion accessories       468.3915\n",
              "                     Food and beverages        333.3220\n",
              "                     Health and beauty         272.1380\n",
              "                     Home and lifestyle        601.7530\n",
              "                     Sports and travel         386.4370\n",
              "        mamoura      Electronic accessories    427.1055\n",
              "                     Fashion accessories       548.5565\n",
              "                     Food and beverages        745.7695\n",
              "                     Health and beauty         306.9400\n",
              "                     Home and lifestyle        373.4730\n",
              "                     Sports and travel         535.5585\n",
              "        zouni beach  Electronic accessories    388.8815\n",
              "                     Fashion accessories       432.4520\n",
              "                     Food and beverages        500.4760\n",
              "                     Health and beauty         304.7785\n",
              "                     Home and lifestyle        455.1015\n",
              "                     Sports and travel         438.7055\n",
              "Male    Helioples    Electronic accessories    397.6580\n",
              "                     Fashion accessories       309.3470\n",
              "                     Food and beverages        483.9685\n",
              "                     Health and beauty         327.7550\n",
              "                     Home and lifestyle        465.7325\n",
              "                     Sports and travel         536.0725\n",
              "        mamoura      Electronic accessories    476.1790\n",
              "                     Fashion accessories       478.1135\n",
              "                     Food and beverages        385.9855\n",
              "                     Health and beauty         484.2660\n",
              "                     Home and lifestyle        288.2200\n",
              "                     Sports and travel         215.0095\n",
              "        zouni beach  Electronic accessories    423.0920\n",
              "                     Fashion accessories       349.1345\n",
              "                     Food and beverages        224.0425\n",
              "                     Health and beauty         646.6815\n",
              "                     Home and lifestyle        380.5730\n",
              "                     Sports and travel         513.1135\n",
              "Name: gross income, dtype: float64"
            ]
          },
          "metadata": {},
          "execution_count": 108
        }
      ]
    },
    {
      "cell_type": "markdown",
      "source": [
        "**Mamoura branch have the highest gross income from Female more than other branches at (Fashion accessories - Sports and travel- Food & beverages ) product line .**"
      ],
      "metadata": {
        "id": "DzK0UxSPZK7C"
      }
    },
    {
      "cell_type": "markdown",
      "source": [
        "# **Answer 2** **mamoura branch is the Highest gross income more than other branches because of :**\n",
        "A- **Mamoura branch have the highest customers satisaction rate more than other branches at (Fashion accessories - Home & lifstyle ) product lines**\n",
        "**B- Mamoura branch have the highest gross income from cash more than other branches at (Fashion accessories - Electronic accessories- Food & beverages ) product line .** **C-Mamoura branch have the highest gross income from Female more than other branches at (Fashion accessories - Sports and travel- Food & beverages ) product line .**"
      ],
      "metadata": {
        "id": "Y79KFOgFZzSu"
      }
    },
    {
      "cell_type": "markdown",
      "source": [
        "# **Quetion3 : what is the other branches should do to increase its gross income ?**"
      ],
      "metadata": {
        "id": "-3n_vMeca0B0"
      }
    },
    {
      "cell_type": "markdown",
      "source": [
        "# Answer 3 :other branches can increase its gross income by do spent more investment in (Female Fashion -Sports and travel- Home&lifstyle) product lines to increase female satisaction rate , create more contracts with local banks for provide ATM machines near branches to provide more cash to customers , Launch marketing offers on cash payments ,"
      ],
      "metadata": {
        "id": "YI2gABo1eCxJ"
      }
    },
    {
      "cell_type": "code",
      "source": [
        "df.to_excel('Supermarket_Cleaned_Data.xlsx')"
      ],
      "metadata": {
        "id": "axyQvauMcwAS"
      },
      "execution_count": 109,
      "outputs": []
    }
  ]
}